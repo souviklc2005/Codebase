{
 "cells": [
  {
   "cell_type": "markdown",
   "id": "2b115808",
   "metadata": {},
   "source": [
    "IBM Data Science"
   ]
  },
  {
   "cell_type": "markdown",
   "id": "0071e22f",
   "metadata": {},
   "source": [
    "Introduction\n"
   ]
  },
  {
   "cell_type": "markdown",
   "id": "b09c1a5e",
   "metadata": {},
   "source": [
    "Data Science Libraries\n",
    "  1) Python\n",
    "  2) R\n",
    "  3) Juila"
   ]
  },
  {
   "cell_type": "markdown",
   "id": "0381cd37",
   "metadata": {},
   "source": [
    "Data Science Libraries\n",
    " 1) Numpy\n",
    " 2) Pandas\n",
    " 3) Matplotlib\n",
    " 4) Seaborn\n",
    " 5) Scikit-learn"
   ]
  },
  {
   "cell_type": "markdown",
   "id": "a8595ba5",
   "metadata": {},
   "source": [
    "Data Science Tools\n",
    "\n",
    "1) Jupyter Notebook\n",
    "2) Anaconda "
   ]
  },
  {
   "cell_type": "markdown",
   "id": "1ec8e2a5",
   "metadata": {},
   "source": [
    "1+2=3\n",
    "\n",
    "2*2=4"
   ]
  },
  {
   "cell_type": "code",
   "execution_count": 2,
   "id": "d7a678a5",
   "metadata": {},
   "outputs": [
    {
     "name": "stdout",
     "output_type": "stream",
     "text": [
      "12\n",
      "7\n"
     ]
    }
   ],
   "source": [
    "a=3\n",
    "b=4\n",
    "print(a*b)\n",
    "print(a+b)"
   ]
  },
  {
   "cell_type": "markdown",
   "id": "0f8b1c1f-433d-4a6f-82d0-397887fee1c2",
   "metadata": {},
   "source": [
    "x=int(input('Enter the time in minutes'))\n",
    "if(x>60):\n",
    "    m=x-60\n",
    "    print(x/60,\"hours\",m,\"minutes\")\n",
    "else:\n",
    "    print(x/60,\"hours\")"
   ]
  },
  {
   "cell_type": "markdown",
   "id": "5115364f-c5aa-47e7-ab23-273566b12688",
   "metadata": {},
   "source": [
    "Objectives\n",
    "1) Clean code \n",
    "2) Widely used for jupyter notebook"
   ]
  },
  {
   "cell_type": "markdown",
   "id": "8d1ccaae-c303-4a6e-8a1e-965814c21601",
   "metadata": {},
   "source": [
    "SOUVIK CHAKRABORTY"
   ]
  },
  {
   "cell_type": "code",
   "execution_count": null,
   "id": "aa6d91df-6ac2-426c-a029-c85e191c6172",
   "metadata": {},
   "outputs": [],
   "source": []
  }
 ],
 "metadata": {
  "kernelspec": {
   "display_name": "Python 3 (ipykernel)",
   "language": "python",
   "name": "python3"
  },
  "language_info": {
   "codemirror_mode": {
    "name": "ipython",
    "version": 3
   },
   "file_extension": ".py",
   "mimetype": "text/x-python",
   "name": "python",
   "nbconvert_exporter": "python",
   "pygments_lexer": "ipython3",
   "version": "3.12.7"
  }
 },
 "nbformat": 4,
 "nbformat_minor": 5
}
